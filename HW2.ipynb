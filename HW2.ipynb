{
 "cells": [
  {
   "cell_type": "code",
   "execution_count": 18,
   "id": "56e36fbc-8ee3-40e0-893e-3637ce4824c8",
   "metadata": {},
   "outputs": [],
   "source": [
    "import numpy as np\n",
    "import pandas as pd\n",
    "import matplotlib.pyplot as plt\n",
    "import seaborn as sns\n"
   ]
  },
  {
   "cell_type": "code",
   "execution_count": 19,
   "id": "437dcbab-df9e-4061-90ac-44f074dffbb4",
   "metadata": {},
   "outputs": [],
   "source": [
    "dataset = pd.read_csv('diabetes.csv') \n",
    "\n",
    "X = dataset.iloc[:,:8].values \n",
    "Y = dataset.iloc[:, 8].values \n"
   ]
  },
  {
   "cell_type": "code",
   "execution_count": 20,
   "id": "62bd2a51-8bb1-4a37-bba8-d3e3a036a55e",
   "metadata": {},
   "outputs": [],
   "source": [
    "from sklearn.model_selection import train_test_split\n",
    "X_train, X_test, Y_train, Y_test = train_test_split(X, Y, test_size = 0.20, random_state=22)"
   ]
  },
  {
   "cell_type": "code",
   "execution_count": 33,
   "id": "e92ccbbb-bf1c-481b-8717-9e948757873d",
   "metadata": {},
   "outputs": [],
   "source": [
    "# Problem 1\n",
    "from sklearn.preprocessing import StandardScaler \n",
    "sc_X = StandardScaler() \n",
    "X_train = sc_X.fit_transform(X_train) \n",
    "X_test = sc_X.transform(X_test)\n",
    "\n",
    "from sklearn.linear_model import LogisticRegression\n",
    "# Creating the logistic model and fitting it\n",
    "classifier = LogisticRegression(random_state=22) \n",
    "classifier.fit(X_train, Y_train)\n",
    "\n",
    "Y_pred = classifier.predict(X_test)"
   ]
  },
  {
   "cell_type": "code",
   "execution_count": 34,
   "id": "64bf12b6-5da2-4616-a888-779060f98e2e",
   "metadata": {},
   "outputs": [
    {
     "name": "stdout",
     "output_type": "stream",
     "text": [
      "Accuracy: 0.7532467532467533\n",
      "Precision: 0.75\n",
      "Recall: 0.4444444444444444\n"
     ]
    }
   ],
   "source": [
    "from sklearn.metrics import confusion_matrix\n",
    "cnf_matrix = confusion_matrix(Y_test, Y_pred) \n",
    "from sklearn import metrics\n",
    "print(\"Accuracy:\",metrics.accuracy_score(Y_test, Y_pred)) \n",
    "print(\"Precision:\",metrics.precision_score(Y_test, Y_pred)) \n",
    "print(\"Recall:\",metrics.recall_score(Y_test, Y_pred))"
   ]
  },
  {
   "cell_type": "code",
   "execution_count": 35,
   "id": "4c00c7f8-1d96-458b-8c8a-71975e908791",
   "metadata": {},
   "outputs": [
    {
     "data": {
      "image/png": "[encoded data removed]",
      "text/plain": [
       "<Figure size 432x288 with 2 Axes>"
      ]
     },
     "metadata": {
      "needs_background": "light"
     },
     "output_type": "display_data"
    }
   ],
   "source": [
    "from matplotlib.colors import ListedColormap\n",
    "class_names=[0,1]  \n",
    "fig, ax = plt.subplots() \n",
    "tick_marks = np.arange(len(class_names)) \n",
    "plt.xticks(tick_marks, class_names) \n",
    "plt.yticks(tick_marks, class_names) \n",
    "\n",
    "sns.heatmap(pd.DataFrame(cnf_matrix), annot=True, cmap=\"YlGnBu\" ,fmt='g') \n",
    "ax.xaxis.set_label_position(\"top\") \n",
    "plt.tight_layout() \n",
    "plt.title('Figure 1: Logistic Regression Confusion matrix', y=1.1) \n",
    "plt.ylabel('Actual label') \n",
    "plt.xlabel('Predicted label');"
   ]
  },
  {
   "cell_type": "code",
   "execution_count": 36,
   "id": "d623927b-37f9-4248-9212-27eaab9ed846",
   "metadata": {},
   "outputs": [],
   "source": [
    "# Problem 2\n",
    "from sklearn.naive_bayes import GaussianNB \n",
    "classifier = GaussianNB()\n",
    "classifier.fit(X_train, Y_train)\n",
    "\n",
    "Y_pred = classifier.predict(X_test)"
   ]
  },
  {
   "cell_type": "code",
   "execution_count": 37,
   "id": "e63132ac-ee60-47ac-9914-e7348ca52df4",
   "metadata": {},
   "outputs": [
    {
     "name": "stdout",
     "output_type": "stream",
     "text": [
      "Accuracy: 0.7077922077922078\n",
      "Precision: 0.6285714285714286\n",
      "Recall: 0.4074074074074074\n"
     ]
    }
   ],
   "source": [
    "from sklearn.metrics import confusion_matrix,accuracy_score\n",
    "cnf_matrix = confusion_matrix(Y_test, Y_pred) \n",
    "\n",
    "print(\"Accuracy:\",metrics.accuracy_score(Y_test, Y_pred)) \n",
    "print(\"Precision:\",metrics.precision_score(Y_test, Y_pred)) \n",
    "print(\"Recall:\",metrics.recall_score(Y_test, Y_pred))\n",
    "\n",
    "from sklearn.model_selection import cross_validate\n",
    "from sklearn.model_selection import KFold"
   ]
  },
  {
   "cell_type": "code",
   "execution_count": 38,
   "id": "28bfcbcf-93d3-48b2-ad71-c58e42f3ef3f",
   "metadata": {},
   "outputs": [
    {
     "data": {
      "image/png": "[encoded data removed]",
      "text/plain": [
       "<Figure size 432x288 with 2 Axes>"
      ]
     },
     "metadata": {
      "needs_background": "light"
     },
     "output_type": "display_data"
    }
   ],
   "source": [
    "class_names=[0,1] \n",
    "fig, ax = plt.subplots() \n",
    "tick_marks = np.arange(len(class_names)) \n",
    "plt.xticks(tick_marks, class_names) \n",
    "plt.yticks(tick_marks, class_names) \n",
    "# create heatmap\n",
    "sns.heatmap(pd.DataFrame(cnf_matrix), annot=True, cmap=\"YlGnBu\" ,fmt='g') \n",
    "ax.xaxis.set_label_position(\"top\") \n",
    "plt.tight_layout() \n",
    "plt.title('Figure 2: Naive Bayes Confusion matrix ', y=1.1) \n",
    "plt.ylabel('Actual label') \n",
    "plt.xlabel('Predicted label');"
   ]
  },
  {
   "cell_type": "code",
   "execution_count": 27,
   "id": "78ab411f-044d-4b36-9a18-4acbe5a668e6",
   "metadata": {},
   "outputs": [],
   "source": [
    "# Problem 3\n",
    "from sklearn.model_selection import cross_validate\n",
    "from sklearn.model_selection import KFold\n",
    "sc_X = StandardScaler() \n",
    "X = sc_X.fit_transform(X)\n",
    "\n",
    "classifier = LogisticRegression(random_state=42)\n",
    "\n",
    "metrics = ['accuracy', 'precision', 'recall']\n",
    "kf = KFold(n_splits=5, random_state=22, shuffle=True)\n",
    "scores1 = cross_validate(classifier, X, Y, scoring=metrics, cv=kf, n_jobs=-1)\n",
    "\n",
    "kf = KFold(n_splits=10, random_state=22, shuffle=True)\n",
    "scores2 = cross_validate(classifier, X, Y, scoring=metrics, cv=kf, n_jobs=-1)"
   ]
  },
  {
   "cell_type": "code",
   "execution_count": 28,
   "id": "e8eb698f-f762-4cb1-98bf-b7075871282a",
   "metadata": {},
   "outputs": [
    {
     "name": "stdout",
     "output_type": "stream",
     "text": [
      "Accuracy (K=5):  0.783795942619472\n",
      "Precision (K=5):  0.743306229368686\n",
      "Recall (K=5):  0.5807289342622872\n",
      "Accuracy (K=10):  0.7799043062200958\n",
      "Precision (K=10):  0.7413196575087069\n",
      "Recall (K=10):  0.5717889307423512\n"
     ]
    }
   ],
   "source": [
    "print(\"Accuracy (K=5): \",scores1['test_accuracy'].mean())\n",
    "print(\"Precision (K=5): \",scores1['test_precision'].mean())\n",
    "print(\"Recall (K=5): \",scores1['test_recall'].mean())\n",
    "\n",
    "print(\"Accuracy (K=10): \",scores2['test_accuracy'].mean())\n",
    "print(\"Precision (K=10): \",scores2['test_precision'].mean())\n",
    "print(\"Recall (K=10): \",scores2['test_recall'].mean())"
   ]
  },
  {
   "cell_type": "code",
   "execution_count": 29,
   "id": "d5f2d54a-d303-4e49-baa6-7edb81082141",
   "metadata": {},
   "outputs": [],
   "source": [
    "# Problem 4\n",
    "\n",
    "sc_X = StandardScaler() \n",
    "X = sc_X.fit_transform(X)\n",
    "\n",
    "classifier = GaussianNB()\n",
    "\n",
    "metrics = ['accuracy', 'precision', 'recall']\n",
    "kf = KFold(n_splits=5, random_state=22, shuffle=True)\n",
    "scores1 = cross_validate(classifier, X, Y, scoring=metrics, cv=kf, n_jobs=-1)\n",
    "\n",
    "kf = KFold(n_splits=10, random_state=22, shuffle=True)\n",
    "scores2 = cross_validate(classifier, X, Y, scoring=metrics, cv=kf, n_jobs=-1)"
   ]
  },
  {
   "cell_type": "code",
   "execution_count": 30,
   "id": "81b5e5dd-eeda-4ba7-8d2e-d3d43642253e",
   "metadata": {},
   "outputs": [
    {
     "name": "stdout",
     "output_type": "stream",
     "text": [
      "Accuracy (K=5):  0.7603768780239368\n",
      "Precision (K=5):  0.6716070155788616\n",
      "Recall (K=5):  0.6002407691280602\n",
      "Accuracy (K=10):  0.7564593301435407\n",
      "Precision (K=10):  0.6655626295347821\n",
      "Recall (K=10):  0.6031094205870347\n"
     ]
    }
   ],
   "source": [
    "print(\"Accuracy (K=5): \",scores1['test_accuracy'].mean())\n",
    "print(\"Precision (K=5): \",scores1['test_precision'].mean())\n",
    "print(\"Recall (K=5): \",scores1['test_recall'].mean())\n",
    "\n",
    "print(\"Accuracy (K=10): \",scores2['test_accuracy'].mean())\n",
    "print(\"Precision (K=10): \",scores2['test_precision'].mean())\n",
    "print(\"Recall (K=10): \",scores2['test_recall'].mean())"
   ]
  },
  {
   "cell_type": "code",
   "execution_count": null,
   "id": "f3342a07-254b-4265-971f-90ba295ad9c4",
   "metadata": {},
   "outputs": [],
   "source": []
  },
  {
   "cell_type": "code",
   "execution_count": null,
   "id": "755db8b2-90d0-468d-b1a3-1b36f9a572bc",
   "metadata": {},
   "outputs": [],
   "source": []
  }
 ],
 "metadata": {
  "kernelspec": {
   "display_name": "Python 3",
   "language": "python",
   "name": "python3"
  },
  "language_info": {
   "codemirror_mode": {
    "name": "ipython",
    "version": 3
   },
   "file_extension": ".py",
   "mimetype": "text/x-python",
   "name": "python",
   "nbconvert_exporter": "python",
   "pygments_lexer": "ipython3",
   "version": "3.8.8"
  }
 },
 "nbformat": 4,
 "nbformat_minor": 5
}
